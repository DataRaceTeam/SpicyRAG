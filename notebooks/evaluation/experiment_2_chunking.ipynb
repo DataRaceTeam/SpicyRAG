{
 "cells": [
  {
   "cell_type": "code",
   "execution_count": 1,
   "id": "d234ba32-40e1-4822-a810-1f3d4a0ddf5b",
   "metadata": {},
   "outputs": [
    {
     "name": "stderr",
     "output_type": "stream",
     "text": [
      "/Users/m.averchenko/PycharmProjects/SpicyRAG/venv/lib/python3.9/site-packages/urllib3/__init__.py:35: NotOpenSSLWarning: urllib3 v2 only supports OpenSSL 1.1.1+, currently the 'ssl' module is compiled with 'LibreSSL 2.8.3'. See: https://github.com/urllib3/urllib3/issues/3020\n",
      "  warnings.warn(\n"
     ]
    }
   ],
   "source": [
    "import pandas as pd\n",
    "import tqdm\n",
    "import requests\n",
    "from datasets import Dataset\n",
    "import os\n",
    "import getpass\n",
    "from clearml import Task\n",
    "\n",
    "from ragas.metrics import (\n",
    "    answer_relevancy,\n",
    "    faithfulness,\n",
    "    context_recall,\n",
    "    context_precision,\n",
    ")\n",
    "\n",
    "from ragas import evaluate"
   ]
  },
  {
   "cell_type": "code",
   "execution_count": 2,
   "id": "fd76ee6e-b8a5-4f59-ba01-5582d10df91f",
   "metadata": {},
   "outputs": [
    {
     "data": {
      "text/html": [
       "<div>\n",
       "<style scoped>\n",
       "    .dataframe tbody tr th:only-of-type {\n",
       "        vertical-align: middle;\n",
       "    }\n",
       "\n",
       "    .dataframe tbody tr th {\n",
       "        vertical-align: top;\n",
       "    }\n",
       "\n",
       "    .dataframe thead th {\n",
       "        text-align: right;\n",
       "    }\n",
       "</style>\n",
       "<table border=\"1\" class=\"dataframe\">\n",
       "  <thead>\n",
       "    <tr style=\"text-align: right;\">\n",
       "      <th></th>\n",
       "      <th>Unnamed: 0</th>\n",
       "      <th>question</th>\n",
       "      <th>contexts</th>\n",
       "      <th>ground_truth</th>\n",
       "      <th>evolution_type</th>\n",
       "      <th>metadata</th>\n",
       "      <th>episode_done</th>\n",
       "    </tr>\n",
       "  </thead>\n",
       "  <tbody>\n",
       "    <tr>\n",
       "      <th>0</th>\n",
       "      <td>411</td>\n",
       "      <td>Зачем проводят конкурс среди оленеводов в ХМАО?</td>\n",
       "      <td>['АВТОНОМНОГО ОКРУГА - ЮГРЫ НА КУБОК ГУБЕРНАТО...</td>\n",
       "      <td>Конкурс профессионального мастерства среди оле...</td>\n",
       "      <td>conditional</td>\n",
       "      <td>[{'file_path': '/home/cias/projects/other/raga...</td>\n",
       "      <td>True</td>\n",
       "    </tr>\n",
       "    <tr>\n",
       "      <th>1</th>\n",
       "      <td>454</td>\n",
       "      <td>Как можно сэкономить энергию в ХМАО-Югре, моде...</td>\n",
       "      <td>['- 325,2 г у.т./кВт-ч, на Нижневартовской ГРЭ...</td>\n",
       "      <td>Для экономии энергии в Ханты-Мансийском автоно...</td>\n",
       "      <td>conditional</td>\n",
       "      <td>[{'file_path': '/home/cias/projects/other/raga...</td>\n",
       "      <td>True</td>\n",
       "    </tr>\n",
       "    <tr>\n",
       "      <th>2</th>\n",
       "      <td>453</td>\n",
       "      <td>Как переводится федеральный чин в округе?</td>\n",
       "      <td>['статьи, - на одну ступень выше классного чин...</td>\n",
       "      <td>При поступлении на гражданскую службу автономн...</td>\n",
       "      <td>conditional</td>\n",
       "      <td>[{'file_path': '/home/cias/projects/other/raga...</td>\n",
       "      <td>True</td>\n",
       "    </tr>\n",
       "    <tr>\n",
       "      <th>3</th>\n",
       "      <td>439</td>\n",
       "      <td>Кто может претендовать на премию, если работае...</td>\n",
       "      <td>['Пункт 1 изложить в следующей редакции: \"1. П...</td>\n",
       "      <td>На премию могут претендовать педагогические ра...</td>\n",
       "      <td>conditional</td>\n",
       "      <td>[{'file_path': '/home/cias/projects/other/raga...</td>\n",
       "      <td>True</td>\n",
       "    </tr>\n",
       "    <tr>\n",
       "      <th>4</th>\n",
       "      <td>429</td>\n",
       "      <td>Как округ решает противоречия между местными и...</td>\n",
       "      <td>['и) организует контроль за выполнением недроп...</td>\n",
       "      <td>Округ вправе предлагать органам местного самоу...</td>\n",
       "      <td>conditional</td>\n",
       "      <td>[{'file_path': '/home/cias/projects/other/raga...</td>\n",
       "      <td>True</td>\n",
       "    </tr>\n",
       "    <tr>\n",
       "      <th>...</th>\n",
       "      <td>...</td>\n",
       "      <td>...</td>\n",
       "      <td>...</td>\n",
       "      <td>...</td>\n",
       "      <td>...</td>\n",
       "      <td>...</td>\n",
       "      <td>...</td>\n",
       "    </tr>\n",
       "    <tr>\n",
       "      <th>115</th>\n",
       "      <td>54</td>\n",
       "      <td>Где предполагается установка систем видеонаблю...</td>\n",
       "      <td>['|1. |Оснащение |Департамент |2009 - |5000 |-...</td>\n",
       "      <td>Системы видеонаблюдения с установкой мониторов...</td>\n",
       "      <td>simple</td>\n",
       "      <td>[{'file_path': '/home/cias/projects/other/raga...</td>\n",
       "      <td>True</td>\n",
       "    </tr>\n",
       "    <tr>\n",
       "      <th>116</th>\n",
       "      <td>78</td>\n",
       "      <td>Когда и где пройдет выездная лекция-концерт «С...</td>\n",
       "      <td>['смете расходов | | |образования автономного ...</td>\n",
       "      <td>Выездная лекция-концерт «С чего начинается Род...</td>\n",
       "      <td>simple</td>\n",
       "      <td>[{'file_path': '/home/cias/projects/other/raga...</td>\n",
       "      <td>True</td>\n",
       "    </tr>\n",
       "    <tr>\n",
       "      <th>117</th>\n",
       "      <td>45</td>\n",
       "      <td>Какие меры социальной защиты предусмотрены для...</td>\n",
       "      <td>['|Задача: организация правовой и социальной з...</td>\n",
       "      <td>Для работников добровольной пожарной охраны Ха...</td>\n",
       "      <td>simple</td>\n",
       "      <td>[{'file_path': '/home/cias/projects/other/raga...</td>\n",
       "      <td>True</td>\n",
       "    </tr>\n",
       "    <tr>\n",
       "      <th>118</th>\n",
       "      <td>68</td>\n",
       "      <td>Какие меры предпринимаются для восстановления ...</td>\n",
       "      <td>['| | | | | | | | | | | | |подсланевых вод и |...</td>\n",
       "      <td>Для восстановления земель, подвергшихся загряз...</td>\n",
       "      <td>simple</td>\n",
       "      <td>[{'file_path': '/home/cias/projects/other/raga...</td>\n",
       "      <td>True</td>\n",
       "    </tr>\n",
       "    <tr>\n",
       "      <th>119</th>\n",
       "      <td>22</td>\n",
       "      <td>Какие расходы были предусмотрены в бюджете Упр...</td>\n",
       "      <td>['|2010 | | | | |автономного | | |сельских нас...</td>\n",
       "      <td>В 2008 году в бюджете Управления внутренних де...</td>\n",
       "      <td>simple</td>\n",
       "      <td>[{'file_path': '/home/cias/projects/other/raga...</td>\n",
       "      <td>True</td>\n",
       "    </tr>\n",
       "  </tbody>\n",
       "</table>\n",
       "<p>120 rows × 7 columns</p>\n",
       "</div>"
      ],
      "text/plain": [
       "     Unnamed: 0                                           question  \\\n",
       "0           411    Зачем проводят конкурс среди оленеводов в ХМАО?   \n",
       "1           454  Как можно сэкономить энергию в ХМАО-Югре, моде...   \n",
       "2           453          Как переводится федеральный чин в округе?   \n",
       "3           439  Кто может претендовать на премию, если работае...   \n",
       "4           429  Как округ решает противоречия между местными и...   \n",
       "..          ...                                                ...   \n",
       "115          54  Где предполагается установка систем видеонаблю...   \n",
       "116          78  Когда и где пройдет выездная лекция-концерт «С...   \n",
       "117          45  Какие меры социальной защиты предусмотрены для...   \n",
       "118          68  Какие меры предпринимаются для восстановления ...   \n",
       "119          22  Какие расходы были предусмотрены в бюджете Упр...   \n",
       "\n",
       "                                              contexts  \\\n",
       "0    ['АВТОНОМНОГО ОКРУГА - ЮГРЫ НА КУБОК ГУБЕРНАТО...   \n",
       "1    ['- 325,2 г у.т./кВт-ч, на Нижневартовской ГРЭ...   \n",
       "2    ['статьи, - на одну ступень выше классного чин...   \n",
       "3    ['Пункт 1 изложить в следующей редакции: \"1. П...   \n",
       "4    ['и) организует контроль за выполнением недроп...   \n",
       "..                                                 ...   \n",
       "115  ['|1. |Оснащение |Департамент |2009 - |5000 |-...   \n",
       "116  ['смете расходов | | |образования автономного ...   \n",
       "117  ['|Задача: организация правовой и социальной з...   \n",
       "118  ['| | | | | | | | | | | | |подсланевых вод и |...   \n",
       "119  ['|2010 | | | | |автономного | | |сельских нас...   \n",
       "\n",
       "                                          ground_truth evolution_type  \\\n",
       "0    Конкурс профессионального мастерства среди оле...    conditional   \n",
       "1    Для экономии энергии в Ханты-Мансийском автоно...    conditional   \n",
       "2    При поступлении на гражданскую службу автономн...    conditional   \n",
       "3    На премию могут претендовать педагогические ра...    conditional   \n",
       "4    Округ вправе предлагать органам местного самоу...    conditional   \n",
       "..                                                 ...            ...   \n",
       "115  Системы видеонаблюдения с установкой мониторов...         simple   \n",
       "116  Выездная лекция-концерт «С чего начинается Род...         simple   \n",
       "117  Для работников добровольной пожарной охраны Ха...         simple   \n",
       "118  Для восстановления земель, подвергшихся загряз...         simple   \n",
       "119  В 2008 году в бюджете Управления внутренних де...         simple   \n",
       "\n",
       "                                              metadata  episode_done  \n",
       "0    [{'file_path': '/home/cias/projects/other/raga...          True  \n",
       "1    [{'file_path': '/home/cias/projects/other/raga...          True  \n",
       "2    [{'file_path': '/home/cias/projects/other/raga...          True  \n",
       "3    [{'file_path': '/home/cias/projects/other/raga...          True  \n",
       "4    [{'file_path': '/home/cias/projects/other/raga...          True  \n",
       "..                                                 ...           ...  \n",
       "115  [{'file_path': '/home/cias/projects/other/raga...          True  \n",
       "116  [{'file_path': '/home/cias/projects/other/raga...          True  \n",
       "117  [{'file_path': '/home/cias/projects/other/raga...          True  \n",
       "118  [{'file_path': '/home/cias/projects/other/raga...          True  \n",
       "119  [{'file_path': '/home/cias/projects/other/raga...          True  \n",
       "\n",
       "[120 rows x 7 columns]"
      ]
     },
     "execution_count": 2,
     "metadata": {},
     "output_type": "execute_result"
    }
   ],
   "source": [
    "eval_data_path = \"../../data/eval_dataset.xlsx\"\n",
    "eval_data = pd.read_excel(eval_data_path)\n",
    "eval_data"
   ]
  },
  {
   "cell_type": "code",
   "execution_count": 3,
   "id": "289c7b95-138d-40f4-be2b-6bb2b4d2996a",
   "metadata": {},
   "outputs": [
    {
     "data": {
      "text/html": [
       "<div>\n",
       "<style scoped>\n",
       "    .dataframe tbody tr th:only-of-type {\n",
       "        vertical-align: middle;\n",
       "    }\n",
       "\n",
       "    .dataframe tbody tr th {\n",
       "        vertical-align: top;\n",
       "    }\n",
       "\n",
       "    .dataframe thead th {\n",
       "        text-align: right;\n",
       "    }\n",
       "</style>\n",
       "<table border=\"1\" class=\"dataframe\">\n",
       "  <thead>\n",
       "    <tr style=\"text-align: right;\">\n",
       "      <th></th>\n",
       "      <th>Unnamed: 0</th>\n",
       "      <th>question</th>\n",
       "      <th>contexts</th>\n",
       "      <th>ground_truth</th>\n",
       "      <th>metadata</th>\n",
       "      <th>episode_done</th>\n",
       "    </tr>\n",
       "    <tr>\n",
       "      <th>evolution_type</th>\n",
       "      <th></th>\n",
       "      <th></th>\n",
       "      <th></th>\n",
       "      <th></th>\n",
       "      <th></th>\n",
       "      <th></th>\n",
       "    </tr>\n",
       "  </thead>\n",
       "  <tbody>\n",
       "    <tr>\n",
       "      <th>conditional</th>\n",
       "      <td>30</td>\n",
       "      <td>30</td>\n",
       "      <td>30</td>\n",
       "      <td>30</td>\n",
       "      <td>30</td>\n",
       "      <td>30</td>\n",
       "    </tr>\n",
       "    <tr>\n",
       "      <th>multi_context</th>\n",
       "      <td>30</td>\n",
       "      <td>30</td>\n",
       "      <td>30</td>\n",
       "      <td>30</td>\n",
       "      <td>30</td>\n",
       "      <td>30</td>\n",
       "    </tr>\n",
       "    <tr>\n",
       "      <th>reasoning</th>\n",
       "      <td>30</td>\n",
       "      <td>30</td>\n",
       "      <td>30</td>\n",
       "      <td>30</td>\n",
       "      <td>30</td>\n",
       "      <td>30</td>\n",
       "    </tr>\n",
       "    <tr>\n",
       "      <th>simple</th>\n",
       "      <td>30</td>\n",
       "      <td>30</td>\n",
       "      <td>30</td>\n",
       "      <td>30</td>\n",
       "      <td>30</td>\n",
       "      <td>30</td>\n",
       "    </tr>\n",
       "  </tbody>\n",
       "</table>\n",
       "</div>"
      ],
      "text/plain": [
       "                Unnamed: 0  question  contexts  ground_truth  metadata  \\\n",
       "evolution_type                                                           \n",
       "conditional             30        30        30            30        30   \n",
       "multi_context           30        30        30            30        30   \n",
       "reasoning               30        30        30            30        30   \n",
       "simple                  30        30        30            30        30   \n",
       "\n",
       "                episode_done  \n",
       "evolution_type                \n",
       "conditional               30  \n",
       "multi_context             30  \n",
       "reasoning                 30  \n",
       "simple                    30  "
      ]
     },
     "execution_count": 3,
     "metadata": {},
     "output_type": "execute_result"
    }
   ],
   "source": [
    "eval_data.groupby(\"evolution_type\").count()"
   ]
  },
  {
   "cell_type": "code",
   "execution_count": 4,
   "id": "f6cabac7-48ec-478e-b1c6-e7d72f4d3bac",
   "metadata": {},
   "outputs": [],
   "source": [
    "def get_system_responses(questions: list[str], ground_truth: list[str]):\n",
    "    \"\"\"\n",
    "    Send requests to the /ask endpoint and collect responses.\n",
    "    \"\"\"\n",
    "    responses = []\n",
    "    for question, gt in tqdm.tqdm(zip(questions, ground_truth)):\n",
    "        print(\"Question:\", question)\n",
    "        try:\n",
    "            response = requests.post(\"http://localhost:8000/ask/\", json={\"text\": question})\n",
    "            response.raise_for_status()\n",
    "            response_data = response.json()\n",
    "\n",
    "            print(\"Response data:\", response_data)\n",
    "            responses.append(\n",
    "                {\n",
    "                    \"question\": question,\n",
    "                    \"response\": response_data[\"llm_response\"],\n",
    "                    \"ground_truth\": gt,\n",
    "                    \"context\": response_data[\"contexts\"], \n",
    "                }\n",
    "            )\n",
    "        except Exception as e:\n",
    "            print(f\"Error while sending query: {question}, error message: {e}\")\n",
    "            continue\n",
    "    return responses"
   ]
  },
  {
   "cell_type": "code",
   "execution_count": 5,
   "id": "a8ebed1d-3142-41b4-90fb-624ce5679131",
   "metadata": {},
   "outputs": [
    {
     "name": "stderr",
     "output_type": "stream",
     "text": [
      "1it [00:00, 128.70it/s]"
     ]
    },
    {
     "name": "stdout",
     "output_type": "stream",
     "text": [
      "Question: Зачем проводят конкурс среди оленеводов в ХМАО?\n",
      "Error while sending query: Зачем проводят конкурс среди оленеводов в ХМАО?, error message: HTTPConnectionPool(host='localhost', port=8000): Max retries exceeded with url: /ask/ (Caused by NewConnectionError('<urllib3.connection.HTTPConnection object at 0x16a724eb0>: Failed to establish a new connection: [Errno 61] Connection refused'))\n"
     ]
    },
    {
     "name": "stderr",
     "output_type": "stream",
     "text": [
      "\n"
     ]
    },
    {
     "data": {
      "text/plain": [
       "[]"
      ]
     },
     "execution_count": 5,
     "metadata": {},
     "output_type": "execute_result"
    }
   ],
   "source": [
    "# Test questoning\n",
    "question = eval_data['question'][0]\n",
    "gt = eval_data['ground_truth'][0]\n",
    "\n",
    "get_system_responses([question], [gt])"
   ]
  },
  {
   "cell_type": "code",
   "execution_count": 11,
   "id": "2e95eb56-14f9-4126-aa22-3c145576f309",
   "metadata": {},
   "outputs": [],
   "source": [
    "# пиздец\n",
    "import logging\n",
    "from contextlib import asynccontextmanager\n",
    "\n",
    "import yaml\n",
    "from fastapi import FastAPI\n",
    "\n",
    "\n",
    "config_path = \"../../interface/config.yaml\"\n",
    "with open(config_path, \"r\") as file:\n",
    "    config = yaml.safe_load(file)\n"
   ]
  },
  {
   "cell_type": "code",
   "execution_count": 13,
   "id": "87f23267-5cc3-40a8-ad93-2f0dd8c7bef8",
   "metadata": {},
   "outputs": [
    {
     "data": {
      "text/plain": [
       "{'py_class': 'interface.chunker.RecursiveCharacterTextSplitterChunker',\n",
       " 'kwargs': {'chunk_size': 2048,\n",
       "  'chunk_overlap': 128,\n",
       "  'separators': ['\\\\n#{1,6} ',\n",
       "   '```\\\\n',\n",
       "   '\\\\n\\\\\\\\*\\\\\\\\*\\\\\\\\*+\\\\n',\n",
       "   '\\\\n---+\\\\n',\n",
       "   '\\\\n___+\\\\n',\n",
       "   '\\\\n\\\\n',\n",
       "   '\\\\n',\n",
       "   ' ',\n",
       "   '',\n",
       "   ',',\n",
       "   '|']}}"
      ]
     },
     "execution_count": 13,
     "metadata": {},
     "output_type": "execute_result"
    }
   ],
   "source": [
    "config['data_processing']['chunker']"
   ]
  },
  {
   "cell_type": "code",
   "execution_count": 20,
   "id": "c0c82a3f-67bc-4370-8530-591ab9ed2d5f",
   "metadata": {},
   "outputs": [],
   "source": [
    "from pydoc import locate\n",
    "\n",
    "\n",
    "chunker_cls = locate(config[\"data_processing\"][\"chunker\"][\"py_class\"])\n",
    "chunker = chunker_cls(**config[\"data_processing\"][\"chunker\"][\"kwargs\"])\n",
    "\n",
    "text_transformers = [\n",
    "    c[\"py_class\"](**c.get(\"kwargs\"))\n",
    "    for c in config[\"data_processing\"].get(\"text_transformers\", [])\n",
    "]\n",
    "chunk_transformers = [\n",
    "    c[\"py_class\"](**c.get(\"kwargs\"))\n",
    "    for c in config[\"data_processing\"].get(\"chunk_transformers\", [])\n",
    "]"
   ]
  },
  {
   "cell_type": "code",
   "execution_count": 21,
   "id": "8f218585-ec4f-40d6-a332-f2fd14a09e10",
   "metadata": {},
   "outputs": [
    {
     "data": {
      "text/plain": [
       "([], [])"
      ]
     },
     "execution_count": 21,
     "metadata": {},
     "output_type": "execute_result"
    }
   ],
   "source": [
    "text_transformers, chunk_transformers"
   ]
  },
  {
   "cell_type": "code",
   "execution_count": null,
   "id": "53ed528a-3e4e-4cf0-9989-9bcec5489638",
   "metadata": {},
   "outputs": [],
   "source": []
  },
  {
   "cell_type": "code",
   "execution_count": null,
   "id": "eb2cdc8f-013e-400b-8b2f-8f8b0ea7b4e4",
   "metadata": {},
   "outputs": [],
   "source": []
  },
  {
   "cell_type": "code",
   "execution_count": null,
   "id": "4dc032ca-0806-4e37-ac4c-ac1e571a7c1c",
   "metadata": {},
   "outputs": [],
   "source": []
  },
  {
   "cell_type": "code",
   "execution_count": null,
   "id": "8661ac9a-5d66-4efc-bfe5-b82b3323a9cd",
   "metadata": {},
   "outputs": [],
   "source": []
  },
  {
   "cell_type": "code",
   "execution_count": null,
   "id": "9b11b5c0-5efc-408c-8468-f7882a7d2c1d",
   "metadata": {},
   "outputs": [],
   "source": []
  },
  {
   "cell_type": "code",
   "execution_count": null,
   "id": "2015ef8c-2ec0-453f-92c8-64dd0eba9996",
   "metadata": {},
   "outputs": [],
   "source": []
  },
  {
   "cell_type": "code",
   "execution_count": 23,
   "id": "a5c17856-15af-4109-aac5-21cd815dcd63",
   "metadata": {},
   "outputs": [
    {
     "data": {
      "text/plain": [
       "0    Зачем проводят конкурс среди оленеводов в ХМАО?\n",
       "Name: question, dtype: object"
      ]
     },
     "execution_count": 23,
     "metadata": {},
     "output_type": "execute_result"
    }
   ],
   "source": [
    "eval_data.question[:1]"
   ]
  },
  {
   "cell_type": "code",
   "execution_count": 10,
   "id": "00bc862a-67b1-4ff6-a657-d2f2e1b3853b",
   "metadata": {},
   "outputs": [
    {
     "name": "stderr",
     "output_type": "stream",
     "text": [
      "1it [00:04,  4.35s/it]"
     ]
    },
    {
     "name": "stdout",
     "output_type": "stream",
     "text": [
      "Error while sending query: Каков объем экспорта услуг категории \"Поездки\" в региональном проекте \"Экспорт услуг\" категории \"Поездки\" в Ханты-Мансийском автономном округе - Югре?, error message: string indices must be integers, not 'str'\n"
     ]
    },
    {
     "name": "stderr",
     "output_type": "stream",
     "text": [
      "2it [00:06,  2.88s/it]"
     ]
    },
    {
     "name": "stdout",
     "output_type": "stream",
     "text": [
      "Error while sending query: Каковы были основные мероприятия, реализуемые Правительством Ханты-Мансийского автономного округа - Югры в 2011 году?, error message: string indices must be integers, not 'str'\n"
     ]
    },
    {
     "name": "stderr",
     "output_type": "stream",
     "text": [
      "3it [00:08,  2.63s/it]"
     ]
    },
    {
     "name": "stdout",
     "output_type": "stream",
     "text": [
      "Error while sending query: Каков размер финансирования из федерального бюджета на реализацию мероприятий государственной программы \"Сотрудничество\" в 2013 году?, error message: string indices must be integers, not 'str'\n"
     ]
    },
    {
     "name": "stderr",
     "output_type": "stream",
     "text": [
      "4it [00:10,  2.45s/it]"
     ]
    },
    {
     "name": "stdout",
     "output_type": "stream",
     "text": [
      "Error while sending query: Какой комплексный центр социального обслуживания населения предлагается к финансированию из средств программы \"Сотрудничество\"?, error message: string indices must be integers, not 'str'\n"
     ]
    },
    {
     "name": "stderr",
     "output_type": "stream",
     "text": [
      "5it [00:12,  2.34s/it]"
     ]
    },
    {
     "name": "stdout",
     "output_type": "stream",
     "text": [
      "Error while sending query: Какое значение имеет экологическое образование в формировании экологической культуры в Ханты-Мансийском автономном округе - Югре?, error message: string indices must be integers, not 'str'\n"
     ]
    },
    {
     "name": "stderr",
     "output_type": "stream",
     "text": [
      "6it [00:14,  2.26s/it]"
     ]
    },
    {
     "name": "stdout",
     "output_type": "stream",
     "text": [
      "Error while sending query: Как регулирование трудовой миграции влияет на рынок труда автономного округа?, error message: string indices must be integers, not 'str'\n"
     ]
    },
    {
     "name": "stderr",
     "output_type": "stream",
     "text": [
      "7it [00:16,  2.17s/it]"
     ]
    },
    {
     "name": "stdout",
     "output_type": "stream",
     "text": [
      "Error while sending query: Каковы основные должности, соответствующие каждому квалификационному уровню в профессиональных квалификационных группах \"Общеотраслевые должности служащих третьего и четвертого уровня\"?, error message: string indices must be integers, not 'str'\n"
     ]
    },
    {
     "name": "stderr",
     "output_type": "stream",
     "text": [
      "8it [00:19,  2.21s/it]"
     ]
    },
    {
     "name": "stdout",
     "output_type": "stream",
     "text": [
      "Error while sending query: Какие документы необходимы для предоставления муниципальной услуги по получению разрешения на строительство объектов капитального строительства?, error message: string indices must be integers, not 'str'\n"
     ]
    },
    {
     "name": "stderr",
     "output_type": "stream",
     "text": [
      "9it [00:21,  2.10s/it]"
     ]
    },
    {
     "name": "stdout",
     "output_type": "stream",
     "text": [
      "Error while sending query: Какова общая сумма по городу Когалыму за 2013-2014 годы?, error message: string indices must be integers, not 'str'\n"
     ]
    },
    {
     "name": "stderr",
     "output_type": "stream",
     "text": [
      "10it [00:23,  2.05s/it]"
     ]
    },
    {
     "name": "stdout",
     "output_type": "stream",
     "text": [
      "Error while sending query: Каким образом федеральное законодательство о концессионных соглашениях регулирует предоставление государственных гарантий для инвестиционных проектов в Ханты-Мансийском автономном округе - Югре?, error message: string indices must be integers, not 'str'\n"
     ]
    },
    {
     "name": "stderr",
     "output_type": "stream",
     "text": [
      "11it [00:25,  2.09s/it]"
     ]
    },
    {
     "name": "stdout",
     "output_type": "stream",
     "text": [
      "Error while sending query: В чем заключается цель Постановления Правительства Ханты-Мансийского автономного округа - Югры от 19.04.2013 № 153-п, касающегося внесения изменений в постановление от 23 декабря 2010 года N 367-п \"О целевой программе Ханты-Мансийского автономного округа - Югры \"Профилактика экстремизма, гармонизация межэтнических и межкультурных отношений, укрепление толерантности в Ханты-Мансийском автономном округе - Югре на 2011 - 2015 годы\"?, error message: string indices must be integers, not 'str'\n"
     ]
    },
    {
     "name": "stderr",
     "output_type": "stream",
     "text": [
      "12it [00:27,  2.03s/it]"
     ]
    },
    {
     "name": "stdout",
     "output_type": "stream",
     "text": [
      "Error while sending query: Какое значение имеет сохранение документального наследия в контексте государственной программы Ханты-Мансийского автономного округа - Югры по сохранению и популяризации культурного наследия?, error message: string indices must be integers, not 'str'\n"
     ]
    },
    {
     "name": "stderr",
     "output_type": "stream",
     "text": [
      "13it [00:29,  2.01s/it]"
     ]
    },
    {
     "name": "stdout",
     "output_type": "stream",
     "text": [
      "Error while sending query: Каковы примеры оборудования и основных средств, используемых в поселении Саранпауль для организации досуга и обеспечения жителей услугами организаций культуры, таких как библиотеки и культурные центры?, error message: string indices must be integers, not 'str'\n"
     ]
    },
    {
     "name": "stderr",
     "output_type": "stream",
     "text": [
      "14it [00:31,  2.01s/it]"
     ]
    },
    {
     "name": "stdout",
     "output_type": "stream",
     "text": [
      "Error while sending query: Какую роль играет Единая система идентификации и аутентификации в заполнении электронной формы заявления о предоставлении муниципальной услуги?, error message: string indices must be integers, not 'str'\n"
     ]
    },
    {
     "name": "stderr",
     "output_type": "stream",
     "text": [
      "15it [00:32,  1.95s/it]"
     ]
    },
    {
     "name": "stdout",
     "output_type": "stream",
     "text": [
      "Error while sending query: Какие государственные должности государственной службы категорий \"Б\" и \"В\" утверждены в Администрации Губернатора Ханты-Мансийского автономного округа?, error message: string indices must be integers, not 'str'\n"
     ]
    },
    {
     "name": "stderr",
     "output_type": "stream",
     "text": [
      "16it [00:34,  1.98s/it]"
     ]
    },
    {
     "name": "stdout",
     "output_type": "stream",
     "text": [
      "Error while sending query: Каков порядок рассмотрения жалоб в исполнительном органе государственной власти автономного округа?, error message: string indices must be integers, not 'str'\n"
     ]
    },
    {
     "name": "stderr",
     "output_type": "stream",
     "text": [
      "17it [00:36,  1.98s/it]"
     ]
    },
    {
     "name": "stdout",
     "output_type": "stream",
     "text": [
      "Error while sending query: О чем постановление Губернатора Ханты-Мансийского автономного округа от 31.07.2009 № 116, касающееся внесения изменений в постановление от 30.12.2005 N 183?, error message: string indices must be integers, not 'str'\n"
     ]
    },
    {
     "name": "stderr",
     "output_type": "stream",
     "text": [
      "18it [00:38,  1.95s/it]"
     ]
    },
    {
     "name": "stdout",
     "output_type": "stream",
     "text": [
      "Error while sending query: Какова структура Департамента общественных и внешних связей Ханты-Мансийского автономного округа - Югры?, error message: string indices must be integers, not 'str'\n"
     ]
    },
    {
     "name": "stderr",
     "output_type": "stream",
     "text": [
      "19it [00:41,  2.13s/it]"
     ]
    },
    {
     "name": "stdout",
     "output_type": "stream",
     "text": [
      "Error while sending query: Какие меры социальной поддержки в сфере здравоохранения установлены законодательством Ханты-Мансийского автономного округа?, error message: string indices must be integers, not 'str'\n"
     ]
    },
    {
     "name": "stderr",
     "output_type": "stream",
     "text": [
      "19it [00:42,  2.25s/it]\n",
      "\n",
      "KeyboardInterrupt\n",
      "\n"
     ]
    }
   ],
   "source": [
    "system_responses = get_system_responses(test_data)"
   ]
  },
  {
   "cell_type": "code",
   "execution_count": null,
   "id": "b905b3ec-e78d-4593-8218-01ad37f70b2a",
   "metadata": {},
   "outputs": [],
   "source": []
  },
  {
   "cell_type": "code",
   "execution_count": null,
   "id": "5925842b-5248-4ec7-b84d-a35a700c33b5",
   "metadata": {},
   "outputs": [],
   "source": []
  }
 ],
 "metadata": {
  "kernelspec": {
   "display_name": "Python 3 (ipykernel)",
   "language": "python",
   "name": "python3"
  },
  "language_info": {
   "codemirror_mode": {
    "name": "ipython",
    "version": 3
   },
   "file_extension": ".py",
   "mimetype": "text/x-python",
   "name": "python",
   "nbconvert_exporter": "python",
   "pygments_lexer": "ipython3",
   "version": "3.9.6"
  }
 },
 "nbformat": 4,
 "nbformat_minor": 5
}
