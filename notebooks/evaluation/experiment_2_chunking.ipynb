{
 "cells": [
  {
   "cell_type": "code",
   "execution_count": 1,
   "id": "d234ba32-40e1-4822-a810-1f3d4a0ddf5b",
   "metadata": {},
   "outputs": [],
   "source": [
    "import getpass\n",
    "import os\n",
    "\n",
    "import pandas as pd\n",
    "import requests\n",
    "import tqdm\n",
    "from clearml import Task\n",
    "from datasets import Dataset\n",
    "from ragas import evaluate\n",
    "from ragas.metrics import (answer_relevancy, context_precision, context_recall,\n",
    "                           faithfulness)"
   ]
  },
  {
   "cell_type": "code",
   "execution_count": 7,
   "id": "fd76ee6e-b8a5-4f59-ba01-5582d10df91f",
   "metadata": {},
   "outputs": [],
   "source": [
    "test_data_path = \"../../data/v2_ragas_npa_dataset_firstPart.xlsx\""
   ]
  },
  {
   "cell_type": "code",
   "execution_count": 8,
   "id": "f6cabac7-48ec-478e-b1c6-e7d72f4d3bac",
   "metadata": {},
   "outputs": [],
   "source": [
    "def get_system_responses(questions):\n",
    "    \"\"\"\n",
    "    Send requests to the /ask endpoint and collect responses.\n",
    "    \"\"\"\n",
    "    responses = []\n",
    "    for question in tqdm.tqdm(questions.itertuples()):\n",
    "        try:\n",
    "            response = requests.post(\n",
    "                \"http://localhost:8000/ask/\", json={\"text\": question[1]}\n",
    "            )\n",
    "            response.raise_for_status()\n",
    "            response_data = response.json()\n",
    "            responses.append(\n",
    "                {\n",
    "                    \"question\": question[1],\n",
    "                    \"response\": response_data[\"llm_response\"],\n",
    "                    \"ground_truth\": question[3],\n",
    "                    \"context\": response_data[\"contexts\"],\n",
    "                }\n",
    "            )\n",
    "        except Exception as e:\n",
    "            print(f\"Error while sending query: {question[1]}, error message: {e}\")\n",
    "            continue\n",
    "    return responses"
   ]
  },
  {
   "cell_type": "code",
   "execution_count": 9,
   "id": "a5c17856-15af-4109-aac5-21cd815dcd63",
   "metadata": {},
   "outputs": [],
   "source": [
    "test_data = pd.read_excel(test_data_path)"
   ]
  },
  {
   "cell_type": "code",
   "execution_count": 10,
   "id": "00bc862a-67b1-4ff6-a657-d2f2e1b3853b",
   "metadata": {},
   "outputs": [
    {
     "name": "stderr",
     "output_type": "stream",
     "text": [
      "1it [00:04,  4.35s/it]"
     ]
    },
    {
     "name": "stdout",
     "output_type": "stream",
     "text": [
      "Error while sending query: Каков объем экспорта услуг категории \"Поездки\" в региональном проекте \"Экспорт услуг\" категории \"Поездки\" в Ханты-Мансийском автономном округе - Югре?, error message: string indices must be integers, not 'str'\n"
     ]
    },
    {
     "name": "stderr",
     "output_type": "stream",
     "text": [
      "2it [00:06,  2.88s/it]"
     ]
    },
    {
     "name": "stdout",
     "output_type": "stream",
     "text": [
      "Error while sending query: Каковы были основные мероприятия, реализуемые Правительством Ханты-Мансийского автономного округа - Югры в 2011 году?, error message: string indices must be integers, not 'str'\n"
     ]
    },
    {
     "name": "stderr",
     "output_type": "stream",
     "text": [
      "3it [00:08,  2.63s/it]"
     ]
    },
    {
     "name": "stdout",
     "output_type": "stream",
     "text": [
      "Error while sending query: Каков размер финансирования из федерального бюджета на реализацию мероприятий государственной программы \"Сотрудничество\" в 2013 году?, error message: string indices must be integers, not 'str'\n"
     ]
    },
    {
     "name": "stderr",
     "output_type": "stream",
     "text": [
      "4it [00:10,  2.45s/it]"
     ]
    },
    {
     "name": "stdout",
     "output_type": "stream",
     "text": [
      "Error while sending query: Какой комплексный центр социального обслуживания населения предлагается к финансированию из средств программы \"Сотрудничество\"?, error message: string indices must be integers, not 'str'\n"
     ]
    },
    {
     "name": "stderr",
     "output_type": "stream",
     "text": [
      "5it [00:12,  2.34s/it]"
     ]
    },
    {
     "name": "stdout",
     "output_type": "stream",
     "text": [
      "Error while sending query: Какое значение имеет экологическое образование в формировании экологической культуры в Ханты-Мансийском автономном округе - Югре?, error message: string indices must be integers, not 'str'\n"
     ]
    },
    {
     "name": "stderr",
     "output_type": "stream",
     "text": [
      "6it [00:14,  2.26s/it]"
     ]
    },
    {
     "name": "stdout",
     "output_type": "stream",
     "text": [
      "Error while sending query: Как регулирование трудовой миграции влияет на рынок труда автономного округа?, error message: string indices must be integers, not 'str'\n"
     ]
    },
    {
     "name": "stderr",
     "output_type": "stream",
     "text": [
      "7it [00:16,  2.17s/it]"
     ]
    },
    {
     "name": "stdout",
     "output_type": "stream",
     "text": [
      "Error while sending query: Каковы основные должности, соответствующие каждому квалификационному уровню в профессиональных квалификационных группах \"Общеотраслевые должности служащих третьего и четвертого уровня\"?, error message: string indices must be integers, not 'str'\n"
     ]
    },
    {
     "name": "stderr",
     "output_type": "stream",
     "text": [
      "8it [00:19,  2.21s/it]"
     ]
    },
    {
     "name": "stdout",
     "output_type": "stream",
     "text": [
      "Error while sending query: Какие документы необходимы для предоставления муниципальной услуги по получению разрешения на строительство объектов капитального строительства?, error message: string indices must be integers, not 'str'\n"
     ]
    },
    {
     "name": "stderr",
     "output_type": "stream",
     "text": [
      "9it [00:21,  2.10s/it]"
     ]
    },
    {
     "name": "stdout",
     "output_type": "stream",
     "text": [
      "Error while sending query: Какова общая сумма по городу Когалыму за 2013-2014 годы?, error message: string indices must be integers, not 'str'\n"
     ]
    },
    {
     "name": "stderr",
     "output_type": "stream",
     "text": [
      "10it [00:23,  2.05s/it]"
     ]
    },
    {
     "name": "stdout",
     "output_type": "stream",
     "text": [
      "Error while sending query: Каким образом федеральное законодательство о концессионных соглашениях регулирует предоставление государственных гарантий для инвестиционных проектов в Ханты-Мансийском автономном округе - Югре?, error message: string indices must be integers, not 'str'\n"
     ]
    },
    {
     "name": "stderr",
     "output_type": "stream",
     "text": [
      "11it [00:25,  2.09s/it]"
     ]
    },
    {
     "name": "stdout",
     "output_type": "stream",
     "text": [
      "Error while sending query: В чем заключается цель Постановления Правительства Ханты-Мансийского автономного округа - Югры от 19.04.2013 № 153-п, касающегося внесения изменений в постановление от 23 декабря 2010 года N 367-п \"О целевой программе Ханты-Мансийского автономного округа - Югры \"Профилактика экстремизма, гармонизация межэтнических и межкультурных отношений, укрепление толерантности в Ханты-Мансийском автономном округе - Югре на 2011 - 2015 годы\"?, error message: string indices must be integers, not 'str'\n"
     ]
    },
    {
     "name": "stderr",
     "output_type": "stream",
     "text": [
      "12it [00:27,  2.03s/it]"
     ]
    },
    {
     "name": "stdout",
     "output_type": "stream",
     "text": [
      "Error while sending query: Какое значение имеет сохранение документального наследия в контексте государственной программы Ханты-Мансийского автономного округа - Югры по сохранению и популяризации культурного наследия?, error message: string indices must be integers, not 'str'\n"
     ]
    },
    {
     "name": "stderr",
     "output_type": "stream",
     "text": [
      "13it [00:29,  2.01s/it]"
     ]
    },
    {
     "name": "stdout",
     "output_type": "stream",
     "text": [
      "Error while sending query: Каковы примеры оборудования и основных средств, используемых в поселении Саранпауль для организации досуга и обеспечения жителей услугами организаций культуры, таких как библиотеки и культурные центры?, error message: string indices must be integers, not 'str'\n"
     ]
    },
    {
     "name": "stderr",
     "output_type": "stream",
     "text": [
      "14it [00:31,  2.01s/it]"
     ]
    },
    {
     "name": "stdout",
     "output_type": "stream",
     "text": [
      "Error while sending query: Какую роль играет Единая система идентификации и аутентификации в заполнении электронной формы заявления о предоставлении муниципальной услуги?, error message: string indices must be integers, not 'str'\n"
     ]
    },
    {
     "name": "stderr",
     "output_type": "stream",
     "text": [
      "15it [00:32,  1.95s/it]"
     ]
    },
    {
     "name": "stdout",
     "output_type": "stream",
     "text": [
      "Error while sending query: Какие государственные должности государственной службы категорий \"Б\" и \"В\" утверждены в Администрации Губернатора Ханты-Мансийского автономного округа?, error message: string indices must be integers, not 'str'\n"
     ]
    },
    {
     "name": "stderr",
     "output_type": "stream",
     "text": [
      "16it [00:34,  1.98s/it]"
     ]
    },
    {
     "name": "stdout",
     "output_type": "stream",
     "text": [
      "Error while sending query: Каков порядок рассмотрения жалоб в исполнительном органе государственной власти автономного округа?, error message: string indices must be integers, not 'str'\n"
     ]
    },
    {
     "name": "stderr",
     "output_type": "stream",
     "text": [
      "17it [00:36,  1.98s/it]"
     ]
    },
    {
     "name": "stdout",
     "output_type": "stream",
     "text": [
      "Error while sending query: О чем постановление Губернатора Ханты-Мансийского автономного округа от 31.07.2009 № 116, касающееся внесения изменений в постановление от 30.12.2005 N 183?, error message: string indices must be integers, not 'str'\n"
     ]
    },
    {
     "name": "stderr",
     "output_type": "stream",
     "text": [
      "18it [00:38,  1.95s/it]"
     ]
    },
    {
     "name": "stdout",
     "output_type": "stream",
     "text": [
      "Error while sending query: Какова структура Департамента общественных и внешних связей Ханты-Мансийского автономного округа - Югры?, error message: string indices must be integers, not 'str'\n"
     ]
    },
    {
     "name": "stderr",
     "output_type": "stream",
     "text": [
      "19it [00:41,  2.13s/it]"
     ]
    },
    {
     "name": "stdout",
     "output_type": "stream",
     "text": [
      "Error while sending query: Какие меры социальной поддержки в сфере здравоохранения установлены законодательством Ханты-Мансийского автономного округа?, error message: string indices must be integers, not 'str'\n"
     ]
    },
    {
     "name": "stderr",
     "output_type": "stream",
     "text": [
      "19it [00:42,  2.25s/it]\n",
      "\n",
      "KeyboardInterrupt\n",
      "\n"
     ]
    }
   ],
   "source": [
    "system_responses = get_system_responses(test_data)"
   ]
  },
  {
   "cell_type": "code",
   "execution_count": null,
   "id": "b905b3ec-e78d-4593-8218-01ad37f70b2a",
   "metadata": {},
   "outputs": [],
   "source": []
  },
  {
   "cell_type": "code",
   "execution_count": null,
   "id": "5925842b-5248-4ec7-b84d-a35a700c33b5",
   "metadata": {},
   "outputs": [],
   "source": []
  }
 ],
 "metadata": {
  "kernelspec": {
   "display_name": "Python 3 (ipykernel)",
   "language": "python",
   "name": "python3"
  },
  "language_info": {
   "codemirror_mode": {
    "name": "ipython",
    "version": 3
   },
   "file_extension": ".py",
   "mimetype": "text/x-python",
   "name": "python",
   "nbconvert_exporter": "python",
   "pygments_lexer": "ipython3",
   "version": "3.12.2"
  }
 },
 "nbformat": 4,
 "nbformat_minor": 5
}
