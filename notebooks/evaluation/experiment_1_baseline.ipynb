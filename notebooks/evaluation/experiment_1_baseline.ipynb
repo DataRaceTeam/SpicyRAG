{
 "cells": [
  {
   "cell_type": "code",
   "outputs": [],
   "source": [
    "import pandas as pd\n",
    "import tqdm\n",
    "import requests\n",
    "from sqlalchemy.orm import Session\n",
    "\n",
    "from ragas.metrics import (\n",
    "    Faithfulness,\n",
    "    AnswerRelevancy,\n",
    "    ContextPrecision,\n",
    "    ContextRecall,\n",
    "    SummarizationScore,\n",
    ")\n",
    "from ragas import evaluate"
   ],
   "metadata": {
    "collapsed": false,
    "ExecuteTime": {
     "end_time": "2024-09-05T17:01:48.246272Z",
     "start_time": "2024-09-05T17:01:46.952532Z"
    }
   },
   "id": "4ed3ed20bda49798",
   "execution_count": 1
  },
  {
   "cell_type": "code",
   "outputs": [],
   "source": [
    "test_data_path = \"/Users/ekaterina.baru/projects/SpicyRAG/data/v2_ragas_npa_dataset_firstPart.xlsx\""
   ],
   "metadata": {
    "collapsed": false,
    "ExecuteTime": {
     "end_time": "2024-09-05T17:01:48.517180Z",
     "start_time": "2024-09-05T17:01:48.515091Z"
    }
   },
   "id": "bbf1e98ad3284f6",
   "execution_count": 2
  },
  {
   "cell_type": "code",
   "outputs": [],
   "source": [
    "# project:\n",
    "#   name: \"SpicyRag\"\n",
    "# \n",
    "# database:\n",
    "#   user: \"user\"\n",
    "#   password: \"password\"\n",
    "#   name: \"spicyragdb\"\n",
    "#   host: \"localhost\"\n",
    "#   port: 5432\n",
    "# \n",
    "# logging:\n",
    "#   level: \"INFO\"\n",
    "# \n",
    "# server:\n",
    "#   host: \"0.0.0.0\"\n",
    "#   port: 8000\n",
    "# \n",
    "# llm:\n",
    "#   base_url: \"https://integrate.api.nvidia.com/v1\"\n",
    "#   api_key: \"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\"\n",
    "#   model: \"meta/llama-3.1-405b-instruct\"\n",
    "#   role: \"user\"\n",
    "#   system_prompt: |\n",
    "#     Вы являетесь виртуальным юридическим консультантом, специализирующимся на анализе и интерпретации юридических документов и правовых норм.\n",
    "#     Ваша задача — помочь пользователю, используя предоставленный контекст, чтобы дать точный и обоснованный ответ на его юридический вопрос.\n",
    "#     Контекст может содержать выдержки из законов, нормативных актов, судебных решений, договоров или других юридических текстов.\n",
    "# \n",
    "#     Инструкции:\n",
    "#       1. Внимательно проанализируй контекст и определите, какие части контекста наиболее релевантны, приводи всю полезную информацию из контекста\n",
    "#       2. Используй релевантные фрагменты контекста (не пиши к чему обращаешься, не упоминай пунктов) для создания полного и юридически обоснованного ответа. Приводи цитаты из контекста в соответствии\n",
    "#       3. После ответа напиши вывод о написанной тобой информации, начиная со слова Таким образом\n",
    "# \n",
    "#     ВАЖНО: не упоминай, что ты работаешь с контекстом! Отвечай структурно и по пунктам.\n",
    "#   temperature: 0.15\n",
    "#   top_p: 0.7\n",
    "#   max_tokens: 10000\n",
    "# \n",
    "# llm_rewriter:\n",
    "#   base_url: \"https://integrate.api.nvidia.com/v1\"\n",
    "#   api_key: \"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\"\n",
    "#   model: \"meta/llama-3.1-8b-instruct\"\n",
    "#   role: \"user\"\n",
    "#   system_prompt: |\n",
    "#     Вы - полезный помощник, который генерирует несколько поисковых запросов на основе одного входного запроса.\n",
    "#     Выполните расширение запроса. Если существует несколько распространенных способов формулировки пользовательского вопроса или общих синонимов для ключевых слов в вопросе, обязательно верните несколько версий запроса с разными формулировками.\n",
    "#     Если в тексте есть сокращения или слова, которые вам незнакомы, не пытайтесь их перефразировать.\n",
    "#     Верните только 3 разных варианта вопроса.\n",
    "#   temperature: 0.2\n",
    "#   top_p: 0.7\n",
    "#   max_tokens: 1024\n",
    "# \n",
    "# embedding_model:\n",
    "#   name: \"paraphrase-MiniLM-L6-v2\"\n",
    "#   dimension: 384\n",
    "# \n",
    "# data_sources:\n",
    "#   excel_file: \"./data/v2_ragas_npa_dataset_firstPart.xlsx\"\n",
    "#   text_file: \"./data/hmao_npa.txt\"\n",
    "#   text_separator: \"\\n\\n\"\n",
    "# \n",
    "# data_processing:\n",
    "#   chunker:\n",
    "#     py_class: interface.chunker.RecursiveCharacterTextSplitterChunker\n",
    "#     kwargs:\n",
    "#       chunk_size: 2048\n",
    "#       chunk_overlap: 128\n",
    "#       separators:\n",
    "#         - '\\n#{1,6} '\n",
    "#         - '```\\n'\n",
    "#         - '\\n\\\\*\\\\*\\\\*+\\n'\n",
    "#         - '\\n---+\\n'\n",
    "#         - '\\n___+\\n'\n",
    "#         - '\\n\\n'\n",
    "#         - '\\n'\n",
    "#         - ' '\n",
    "#         - ''\n",
    "#         - ','\n",
    "#         - '|'\n",
    "#   top_k: 3\n",
    "#   similarity_threshold: 0.7"
   ],
   "metadata": {
    "collapsed": false,
    "ExecuteTime": {
     "end_time": "2024-09-05T17:02:10.678417Z",
     "start_time": "2024-09-05T17:02:10.673687Z"
    }
   },
   "id": "96ae361df6c743ea",
   "execution_count": 3
  },
  {
   "cell_type": "code",
   "outputs": [],
   "source": [
    "def get_system_responses(questions):\n",
    "    \"\"\"\n",
    "    Send requests to the /ask endpoint and collect responses.\n",
    "    \"\"\"\n",
    "    responses = []\n",
    "    for question in tqdm.tqdm(questions.itertuples()):\n",
    "        response = requests.post(\"http://localhost:8000/ask/\", json={\"text\": question[1]})\n",
    "        response.raise_for_status()\n",
    "        response_data = response.json()\n",
    "        responses.append(\n",
    "            {\n",
    "                \"question\": question[1],\n",
    "                \"response\": response_data[\"llm_response\"],\n",
    "                \"ground_truth\": question[3],\n",
    "                \"context\": response_data[\"contexts\"], \n",
    "            }\n",
    "        )\n",
    "    return responses"
   ],
   "metadata": {
    "collapsed": false,
    "ExecuteTime": {
     "end_time": "2024-09-05T17:02:11.556031Z",
     "start_time": "2024-09-05T17:02:11.552388Z"
    }
   },
   "id": "afb3ac1bbff59e76",
   "execution_count": 4
  },
  {
   "cell_type": "code",
   "outputs": [],
   "source": [
    "test_data = pd.read_excel(test_data_path)"
   ],
   "metadata": {
    "collapsed": false,
    "ExecuteTime": {
     "end_time": "2024-09-05T17:02:14.960377Z",
     "start_time": "2024-09-05T17:02:14.838209Z"
    }
   },
   "id": "7170ce4e12fd43c3",
   "execution_count": 5
  },
  {
   "cell_type": "code",
   "outputs": [
    {
     "ename": "TypeError",
     "evalue": "string indices must be integers",
     "output_type": "error",
     "traceback": [
      "\u001B[0;31m---------------------------------------------------------------------------\u001B[0m",
      "\u001B[0;31mTypeError\u001B[0m                                 Traceback (most recent call last)",
      "Cell \u001B[0;32mIn[6], line 1\u001B[0m\n\u001B[0;32m----> 1\u001B[0m system_responses \u001B[38;5;241m=\u001B[39m \u001B[43mget_system_responses\u001B[49m\u001B[43m(\u001B[49m\u001B[43mtest_data\u001B[49m\u001B[43m)\u001B[49m\n",
      "Cell \u001B[0;32mIn[4], line 13\u001B[0m, in \u001B[0;36mget_system_responses\u001B[0;34m(questions)\u001B[0m\n\u001B[1;32m      8\u001B[0m     response\u001B[38;5;241m.\u001B[39mraise_for_status()\n\u001B[1;32m      9\u001B[0m     response_data \u001B[38;5;241m=\u001B[39m response\u001B[38;5;241m.\u001B[39mjson()\n\u001B[1;32m     10\u001B[0m     responses\u001B[38;5;241m.\u001B[39mappend(\n\u001B[1;32m     11\u001B[0m         {\n\u001B[1;32m     12\u001B[0m             \u001B[38;5;124m\"\u001B[39m\u001B[38;5;124mquestion\u001B[39m\u001B[38;5;124m\"\u001B[39m: question[\u001B[38;5;241m1\u001B[39m],\n\u001B[0;32m---> 13\u001B[0m             \u001B[38;5;124m\"\u001B[39m\u001B[38;5;124mresponse\u001B[39m\u001B[38;5;124m\"\u001B[39m: \u001B[43mresponse_data\u001B[49m\u001B[43m[\u001B[49m\u001B[38;5;124;43m\"\u001B[39;49m\u001B[38;5;124;43mllm_response\u001B[39;49m\u001B[38;5;124;43m\"\u001B[39;49m\u001B[43m]\u001B[49m,\n\u001B[1;32m     14\u001B[0m             \u001B[38;5;124m\"\u001B[39m\u001B[38;5;124mground_truth\u001B[39m\u001B[38;5;124m\"\u001B[39m: question[\u001B[38;5;241m3\u001B[39m],\n\u001B[1;32m     15\u001B[0m             \u001B[38;5;124m\"\u001B[39m\u001B[38;5;124mcontext\u001B[39m\u001B[38;5;124m\"\u001B[39m: response_data[\u001B[38;5;124m\"\u001B[39m\u001B[38;5;124mcontexts\u001B[39m\u001B[38;5;124m\"\u001B[39m], \n\u001B[1;32m     16\u001B[0m         }\n\u001B[1;32m     17\u001B[0m     )\n\u001B[1;32m     18\u001B[0m \u001B[38;5;28;01mreturn\u001B[39;00m responses\n",
      "\u001B[0;31mTypeError\u001B[0m: string indices must be integers"
     ]
    }
   ],
   "source": [
    "system_responses = get_system_responses(test_data)"
   ],
   "metadata": {
    "collapsed": false,
    "ExecuteTime": {
     "end_time": "2024-09-05T17:18:32.978827Z",
     "start_time": "2024-09-05T17:02:15.360590Z"
    }
   },
   "id": "cb97d3e6d629fac3",
   "execution_count": 6
  },
  {
   "cell_type": "code",
   "outputs": [
    {
     "ename": "NameError",
     "evalue": "name 'system_responses' is not defined",
     "output_type": "error",
     "traceback": [
      "\u001B[0;31m---------------------------------------------------------------------------\u001B[0m",
      "\u001B[0;31mNameError\u001B[0m                                 Traceback (most recent call last)",
      "Cell \u001B[0;32mIn[7], line 1\u001B[0m\n\u001B[0;32m----> 1\u001B[0m \u001B[43msystem_responses\u001B[49m\n",
      "\u001B[0;31mNameError\u001B[0m: name 'system_responses' is not defined"
     ]
    }
   ],
   "source": [
    "system_responses"
   ],
   "metadata": {
    "collapsed": false,
    "ExecuteTime": {
     "end_time": "2024-09-05T17:48:35.660632Z",
     "start_time": "2024-09-05T17:48:35.628705Z"
    }
   },
   "id": "86db843f0ba596c2",
   "execution_count": 7
  },
  {
   "cell_type": "code",
   "outputs": [],
   "source": [],
   "metadata": {
    "collapsed": false
   },
   "id": "3a67e4c5e753622d"
  }
 ],
 "metadata": {
  "kernelspec": {
   "display_name": "Python 3",
   "language": "python",
   "name": "python3"
  },
  "language_info": {
   "codemirror_mode": {
    "name": "ipython",
    "version": 2
   },
   "file_extension": ".py",
   "mimetype": "text/x-python",
   "name": "python",
   "nbconvert_exporter": "python",
   "pygments_lexer": "ipython2",
   "version": "2.7.6"
  }
 },
 "nbformat": 4,
 "nbformat_minor": 5
}
