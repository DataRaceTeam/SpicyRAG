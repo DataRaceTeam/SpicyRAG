{
 "cells": [
  {
   "cell_type": "code",
   "outputs": [],
   "source": [
    "import pandas as pd\n",
    "import tqdm\n",
    "import requests\n",
    "from datasets import Dataset\n",
    "import os\n",
    "import getpass\n",
    "from clearml import Task\n",
    "\n",
    "from ragas.metrics import (\n",
    "    answer_relevancy,\n",
    "    faithfulness,\n",
    "    context_recall,\n",
    "    context_precision,\n",
    ")\n",
    "\n",
    "from ragas import evaluate"
   ],
   "metadata": {
    "collapsed": false,
    "ExecuteTime": {
     "end_time": "2024-09-07T04:37:29.975678Z",
     "start_time": "2024-09-07T04:37:29.968602Z"
    }
   },
   "id": "4ed3ed20bda49798",
   "execution_count": 17
  },
  {
   "cell_type": "code",
   "outputs": [],
   "source": [
    "os.environ[\"OPENAI_API_KEY\"] = getpass.getpass('Enter your key: ')"
   ],
   "metadata": {
    "collapsed": false,
    "ExecuteTime": {
     "end_time": "2024-09-07T06:41:04.560766Z",
     "start_time": "2024-09-07T06:41:02.651800Z"
    }
   },
   "id": "7b807b4f015f413e",
   "execution_count": 68
  },
  {
   "cell_type": "code",
   "outputs": [],
   "source": [
    "# clear ml credentials"
   ],
   "metadata": {
    "collapsed": false,
    "ExecuteTime": {
     "end_time": "2024-09-07T04:37:35.095292Z",
     "start_time": "2024-09-07T04:37:35.092645Z"
    }
   },
   "id": "513fd8a2c1767f2f",
   "execution_count": 19
  },
  {
   "cell_type": "code",
   "outputs": [],
   "source": [
    "test_data_path = \"/Users/ekaterina.baru/projects/SpicyRAG/data/eval_dataset.xlsx\""
   ],
   "metadata": {
    "collapsed": false,
    "ExecuteTime": {
     "end_time": "2024-09-07T04:37:35.532467Z",
     "start_time": "2024-09-07T04:37:35.530675Z"
    }
   },
   "id": "bbf1e98ad3284f6",
   "execution_count": 20
  },
  {
   "cell_type": "code",
   "outputs": [],
   "source": [
    "# project:\n",
    "#   name: \"SpicyRag\"\n",
    "# \n",
    "# database:\n",
    "#   user: \"user\"\n",
    "#   password: \"password\"\n",
    "#   name: \"spicyragdb\"\n",
    "#   host: \"localhost\"\n",
    "#   port: 5432\n",
    "# \n",
    "# logging:\n",
    "#   level: \"INFO\"\n",
    "# \n",
    "# server:\n",
    "#   host: \"0.0.0.0\"\n",
    "#   port: 8000\n",
    "# \n",
    "# llm:\n",
    "#   model: \"google/gemma-2-27b-it\"\n",
    "#   role: \"user\"\n",
    "#   system_prompt: |\n",
    "#     Вы являетесь виртуальным юридическим консультантом, специализирующимся на анализе и интерпретации юридических документов и правовых норм.\n",
    "#     Ваша задача — помочь пользователю, используя предоставленный контекст, чтобы дать точный и обоснованный ответ на его юридический вопрос.\n",
    "#     Контекст может содержать выдержки из законов, нормативных актов, судебных решений, договоров или других юридических текстов.\n",
    "# \n",
    "#     Инструкции:\n",
    "#       1. Внимательно проанализируй контекст и определите, какие части контекста наиболее релевантны, приводи всю полезную информацию из контекста\n",
    "#       2. Используй релевантные фрагменты контекста (не пиши к чему обращаешься, не упоминай пунктов) для создания полного и юридически обоснованного ответа. Приводи цитаты из контекста в соответствии\n",
    "#       3. После ответа напиши вывод о написанной тобой информации, начиная со слова Таким образом\n",
    "# \n",
    "#     ВАЖНО: не упоминай, что ты работаешь с контекстом! Отвечай структурно и по пунктам.\n",
    "#   temperature: 0.15\n",
    "#   top_p: 0.7\n",
    "#   max_tokens: 4096\n",
    "# \n",
    "# llm_rewriter:\n",
    "#   model: \"meta/llama-3.1-405b-instruct\"\n",
    "#   role: \"user\"\n",
    "#   system_prompt: |\n",
    "#     Вы - полезный помощник, который генерирует несколько поисковых запросов на основе одного входного запроса.\n",
    "#     Выполните расширение запроса. Если существует несколько распространенных способов формулировки пользовательского вопроса или общих синонимов для ключевых слов в вопросе, обязательно верните несколько версий запроса с разными формулировками.\n",
    "#     Если в тексте есть сокращения или слова, которые вам незнакомы, не пытайтесь их перефразировать.\n",
    "#     Верните только 3 разных варианта вопроса.\n",
    "#   temperature: 0.2\n",
    "#   top_p: 0.7\n",
    "#   max_tokens: 2048\n",
    "# \n",
    "# embedding_model:\n",
    "#   name: \"paraphrase-MiniLM-L6-v2\"\n",
    "#   dimension: 384\n",
    "# \n",
    "# data_sources:\n",
    "#   excel_file: \"./data/v2_ragas_npa_dataset_firstPart.xlsx\"\n",
    "#   text_file: \"./data/hmao_npa.txt\"\n",
    "#   text_separator: \"\\n\\n\"\n",
    "# \n",
    "# data_processing:\n",
    "#   chunker:\n",
    "#     py_class: interface.chunker.RecursiveCharacterTextSplitterChunker\n",
    "#     kwargs:\n",
    "#       chunk_size: 2048\n",
    "#       chunk_overlap: 128\n",
    "#       separators:\n",
    "#         - '\\n#{1,6} '\n",
    "#         - '```\\n'\n",
    "#         - '\\n\\\\*\\\\*\\\\*+\\n'\n",
    "#         - '\\n---+\\n'\n",
    "#         - '\\n___+\\n'\n",
    "#         - '\\n\\n'\n",
    "#         - '\\n'\n",
    "#         - ' '\n",
    "#         - ''\n",
    "#         - ','\n",
    "#         - '|'\n",
    "#   top_k: 3\n",
    "#   similarity_threshold: 0.7"
   ],
   "metadata": {
    "collapsed": false,
    "ExecuteTime": {
     "end_time": "2024-09-07T04:37:36.004246Z",
     "start_time": "2024-09-07T04:37:36.001299Z"
    }
   },
   "id": "96ae361df6c743ea",
   "execution_count": 21
  },
  {
   "cell_type": "code",
   "outputs": [],
   "source": [
    "def get_system_responses(questions):\n",
    "    \"\"\"\n",
    "    Send requests to the /ask endpoint and collect responses.\n",
    "    \"\"\"\n",
    "    responses = []\n",
    "    for question in tqdm.tqdm(questions.itertuples()):\n",
    "        try:\n",
    "            response = requests.post(\"http://localhost:8000/ask/\", json={\"question\": question[2]})\n",
    "            response.raise_for_status()\n",
    "            response_data = response.json()\n",
    "            responses.append(\n",
    "                {\n",
    "                    \"question\": question[2],\n",
    "                    \"response\": response_data[\"response\"],\n",
    "                    \"ground_truth\": question[4],\n",
    "                    \"context\": response_data[\"context\"], \n",
    "                }\n",
    "            )\n",
    "        except Exception as e:\n",
    "            print(f\"Error while sending query: {question[1]}, error message: {e}\")\n",
    "            continue\n",
    "    return responses"
   ],
   "metadata": {
    "collapsed": false,
    "ExecuteTime": {
     "end_time": "2024-09-07T06:25:25.264722Z",
     "start_time": "2024-09-07T06:25:25.259666Z"
    }
   },
   "id": "afb3ac1bbff59e76",
   "execution_count": 62
  },
  {
   "cell_type": "code",
   "outputs": [],
   "source": [
    "test_data = pd.read_excel(test_data_path)"
   ],
   "metadata": {
    "collapsed": false,
    "ExecuteTime": {
     "end_time": "2024-09-07T06:25:26.343564Z",
     "start_time": "2024-09-07T06:25:26.314836Z"
    }
   },
   "id": "7170ce4e12fd43c3",
   "execution_count": 63
  },
  {
   "cell_type": "code",
   "outputs": [
    {
     "name": "stderr",
     "output_type": "stream",
     "text": [
      "120it [08:43,  4.36s/it]\n"
     ]
    }
   ],
   "source": [
    "system_responses = get_system_responses(test_data)"
   ],
   "metadata": {
    "collapsed": false,
    "ExecuteTime": {
     "end_time": "2024-09-07T06:34:11.233621Z",
     "start_time": "2024-09-07T06:25:27.987269Z"
    }
   },
   "id": "cb97d3e6d629fac3",
   "execution_count": 64
  },
  {
   "cell_type": "code",
   "outputs": [],
   "source": [
    "data_samples = {\n",
    "    \"question\": [response[\"question\"] for response in system_responses],\n",
    "    \"answer\": [response[\"response\"] for response in system_responses],\n",
    "    \"contexts\": [response[\"context\"] for response in system_responses],\n",
    "    \"ground_truth\": [response[\"ground_truth\"] for response in system_responses],\n",
    "}\n",
    "dataset = Dataset.from_dict(data_samples)"
   ],
   "metadata": {
    "collapsed": false,
    "ExecuteTime": {
     "end_time": "2024-09-07T06:40:43.884937Z",
     "start_time": "2024-09-07T06:40:43.876234Z"
    }
   },
   "id": "3a67e4c5e753622d",
   "execution_count": 66
  },
  {
   "cell_type": "code",
   "outputs": [
    {
     "data": {
      "text/plain": "Evaluating:   0%|          | 0/480 [00:00<?, ?it/s]",
      "application/vnd.jupyter.widget-view+json": {
       "version_major": 2,
       "version_minor": 0,
       "model_id": "f9d424fa4da543bbbe7913483deff7ae"
      }
     },
     "metadata": {},
     "output_type": "display_data"
    },
    {
     "name": "stderr",
     "output_type": "stream",
     "text": [
      "Exception raised in Job[275]: RateLimitError(Error code: 429 - {'error': {'message': 'Rate limit reached for gpt-4o-mini in organization org-UZZpjHJPzrDNOTXMz3GCGmjK on tokens per min (TPM): Limit 200000, Used 197950, Requested 5343. Please try again in 987ms. Visit https://platform.openai.com/account/rate-limits to learn more.', 'type': 'tokens', 'param': None, 'code': 'rate_limit_exceeded'}})\n",
      "Exception raised in Job[279]: RateLimitError(Error code: 429 - {'error': {'message': 'Rate limit reached for gpt-4o-mini in organization org-UZZpjHJPzrDNOTXMz3GCGmjK on tokens per min (TPM): Limit 200000, Used 196467, Requested 5022. Please try again in 446ms. Visit https://platform.openai.com/account/rate-limits to learn more.', 'type': 'tokens', 'param': None, 'code': 'rate_limit_exceeded'}})\n",
      "Exception raised in Job[267]: RateLimitError(Error code: 429 - {'error': {'message': 'Rate limit reached for gpt-4o-mini in organization org-UZZpjHJPzrDNOTXMz3GCGmjK on tokens per min (TPM): Limit 200000, Used 196598, Requested 6035. Please try again in 789ms. Visit https://platform.openai.com/account/rate-limits to learn more.', 'type': 'tokens', 'param': None, 'code': 'rate_limit_exceeded'}})\n",
      "Exception raised in Job[293]: RateLimitError(Error code: 429 - {'error': {'message': 'Rate limit reached for gpt-4o-mini in organization org-UZZpjHJPzrDNOTXMz3GCGmjK on tokens per min (TPM): Limit 200000, Used 197466, Requested 4106. Please try again in 471ms. Visit https://platform.openai.com/account/rate-limits to learn more.', 'type': 'tokens', 'param': None, 'code': 'rate_limit_exceeded'}})\n",
      "Exception raised in Job[264]: RateLimitError(Error code: 429 - {'error': {'message': 'Rate limit reached for gpt-4o-mini in organization org-UZZpjHJPzrDNOTXMz3GCGmjK on tokens per min (TPM): Limit 200000, Used 198721, Requested 4618. Please try again in 1.001s. Visit https://platform.openai.com/account/rate-limits to learn more.', 'type': 'tokens', 'param': None, 'code': 'rate_limit_exceeded'}})\n",
      "Exception raised in Job[272]: TimeoutError()\n",
      "Exception raised in Job[287]: TimeoutError()\n",
      "Exception raised in Job[296]: RateLimitError(Error code: 429 - {'error': {'message': 'Rate limit reached for gpt-4o-mini in organization org-UZZpjHJPzrDNOTXMz3GCGmjK on tokens per min (TPM): Limit 200000, Used 197794, Requested 4141. Please try again in 580ms. Visit https://platform.openai.com/account/rate-limits to learn more.', 'type': 'tokens', 'param': None, 'code': 'rate_limit_exceeded'}})\n",
      "Exception raised in Job[299]: RateLimitError(Error code: 429 - {'error': {'message': 'Rate limit reached for gpt-4o-mini in organization org-UZZpjHJPzrDNOTXMz3GCGmjK on tokens per min (TPM): Limit 200000, Used 198249, Requested 5519. Please try again in 1.13s. Visit https://platform.openai.com/account/rate-limits to learn more.', 'type': 'tokens', 'param': None, 'code': 'rate_limit_exceeded'}})\n",
      "Exception raised in Job[305]: RateLimitError(Error code: 429 - {'error': {'message': 'Rate limit reached for gpt-4o-mini in organization org-UZZpjHJPzrDNOTXMz3GCGmjK on tokens per min (TPM): Limit 200000, Used 197402, Requested 4179. Please try again in 474ms. Visit https://platform.openai.com/account/rate-limits to learn more.', 'type': 'tokens', 'param': None, 'code': 'rate_limit_exceeded'}})\n",
      "Exception raised in Job[307]: RateLimitError(Error code: 429 - {'error': {'message': 'Rate limit reached for gpt-4o-mini in organization org-UZZpjHJPzrDNOTXMz3GCGmjK on tokens per min (TPM): Limit 200000, Used 198469, Requested 4879. Please try again in 1.004s. Visit https://platform.openai.com/account/rate-limits to learn more.', 'type': 'tokens', 'param': None, 'code': 'rate_limit_exceeded'}})\n",
      "Exception raised in Job[295]: TimeoutError()\n",
      "Exception raised in Job[331]: RateLimitError(Error code: 429 - {'error': {'message': 'Rate limit reached for gpt-4o-mini in organization org-UZZpjHJPzrDNOTXMz3GCGmjK on tokens per min (TPM): Limit 200000, Used 196902, Requested 4346. Please try again in 374ms. Visit https://platform.openai.com/account/rate-limits to learn more.', 'type': 'tokens', 'param': None, 'code': 'rate_limit_exceeded'}})\n",
      "Exception raised in Job[327]: RateLimitError(Error code: 429 - {'error': {'message': 'Rate limit reached for gpt-4o-mini in organization org-UZZpjHJPzrDNOTXMz3GCGmjK on tokens per min (TPM): Limit 200000, Used 197447, Requested 4864. Please try again in 693ms. Visit https://platform.openai.com/account/rate-limits to learn more.', 'type': 'tokens', 'param': None, 'code': 'rate_limit_exceeded'}})\n",
      "Exception raised in Job[351]: RateLimitError(Error code: 429 - {'error': {'message': 'Rate limit reached for gpt-4o-mini in organization org-UZZpjHJPzrDNOTXMz3GCGmjK on tokens per min (TPM): Limit 200000, Used 197821, Requested 5312. Please try again in 939ms. Visit https://platform.openai.com/account/rate-limits to learn more.', 'type': 'tokens', 'param': None, 'code': 'rate_limit_exceeded'}})\n",
      "Exception raised in Job[87]: RateLimitError(Error code: 429 - {'error': {'message': 'Rate limit reached for gpt-4o-mini in organization org-UZZpjHJPzrDNOTXMz3GCGmjK on tokens per min (TPM): Limit 200000, Used 197451, Requested 5850. Please try again in 990ms. Visit https://platform.openai.com/account/rate-limits to learn more.', 'type': 'tokens', 'param': None, 'code': 'rate_limit_exceeded'}})\n",
      "Exception raised in Job[348]: RateLimitError(Error code: 429 - {'error': {'message': 'Rate limit reached for gpt-4o-mini in organization org-UZZpjHJPzrDNOTXMz3GCGmjK on tokens per min (TPM): Limit 200000, Used 196867, Requested 3900. Please try again in 230ms. Visit https://platform.openai.com/account/rate-limits to learn more.', 'type': 'tokens', 'param': None, 'code': 'rate_limit_exceeded'}})\n",
      "Exception raised in Job[375]: RateLimitError(Error code: 429 - {'error': {'message': 'Rate limit reached for gpt-4o-mini in organization org-UZZpjHJPzrDNOTXMz3GCGmjK on tokens per min (TPM): Limit 200000, Used 198725, Requested 4734. Please try again in 1.037s. Visit https://platform.openai.com/account/rate-limits to learn more.', 'type': 'tokens', 'param': None, 'code': 'rate_limit_exceeded'}})\n",
      "Exception raised in Job[79]: RateLimitError(Error code: 429 - {'error': {'message': 'Rate limit reached for gpt-4o-mini in organization org-UZZpjHJPzrDNOTXMz3GCGmjK on tokens per min (TPM): Limit 200000, Used 197699, Requested 5086. Please try again in 835ms. Visit https://platform.openai.com/account/rate-limits to learn more.', 'type': 'tokens', 'param': None, 'code': 'rate_limit_exceeded'}})\n",
      "Exception raised in Job[99]: RateLimitError(Error code: 429 - {'error': {'message': 'Rate limit reached for gpt-4o-mini in organization org-UZZpjHJPzrDNOTXMz3GCGmjK on tokens per min (TPM): Limit 200000, Used 198140, Requested 4715. Please try again in 856ms. Visit https://platform.openai.com/account/rate-limits to learn more.', 'type': 'tokens', 'param': None, 'code': 'rate_limit_exceeded'}})\n",
      "Exception raised in Job[84]: RateLimitError(Error code: 429 - {'error': {'message': 'Rate limit reached for gpt-4o-mini in organization org-UZZpjHJPzrDNOTXMz3GCGmjK on tokens per min (TPM): Limit 200000, Used 198574, Requested 4497. Please try again in 921ms. Visit https://platform.openai.com/account/rate-limits to learn more.', 'type': 'tokens', 'param': None, 'code': 'rate_limit_exceeded'}})\n",
      "Exception raised in Job[383]: RateLimitError(Error code: 429 - {'error': {'message': 'Rate limit reached for gpt-4o-mini in organization org-UZZpjHJPzrDNOTXMz3GCGmjK on tokens per min (TPM): Limit 200000, Used 196489, Requested 5026. Please try again in 454ms. Visit https://platform.openai.com/account/rate-limits to learn more.', 'type': 'tokens', 'param': None, 'code': 'rate_limit_exceeded'}})\n",
      "Exception raised in Job[393]: RateLimitError(Error code: 429 - {'error': {'message': 'Rate limit reached for gpt-4o-mini in organization org-UZZpjHJPzrDNOTXMz3GCGmjK on tokens per min (TPM): Limit 200000, Used 197911, Requested 4833. Please try again in 823ms. Visit https://platform.openai.com/account/rate-limits to learn more.', 'type': 'tokens', 'param': None, 'code': 'rate_limit_exceeded'}})\n",
      "Exception raised in Job[107]: RateLimitError(Error code: 429 - {'error': {'message': 'Rate limit reached for gpt-4o-mini in organization org-UZZpjHJPzrDNOTXMz3GCGmjK on tokens per min (TPM): Limit 200000, Used 198061, Requested 4461. Please try again in 756ms. Visit https://platform.openai.com/account/rate-limits to learn more.', 'type': 'tokens', 'param': None, 'code': 'rate_limit_exceeded'}})\n",
      "Exception raised in Job[120]: RateLimitError(Error code: 429 - {'error': {'message': 'Rate limit reached for gpt-4o-mini in organization org-UZZpjHJPzrDNOTXMz3GCGmjK on tokens per min (TPM): Limit 200000, Used 198368, Requested 3691. Please try again in 617ms. Visit https://platform.openai.com/account/rate-limits to learn more.', 'type': 'tokens', 'param': None, 'code': 'rate_limit_exceeded'}})\n",
      "Exception raised in Job[103]: RateLimitError(Error code: 429 - {'error': {'message': 'Rate limit reached for gpt-4o-mini in organization org-UZZpjHJPzrDNOTXMz3GCGmjK on tokens per min (TPM): Limit 200000, Used 197841, Requested 5052. Please try again in 867ms. Visit https://platform.openai.com/account/rate-limits to learn more.', 'type': 'tokens', 'param': None, 'code': 'rate_limit_exceeded'}})\n",
      "Exception raised in Job[111]: RateLimitError(Error code: 429 - {'error': {'message': 'Rate limit reached for gpt-4o-mini in organization org-UZZpjHJPzrDNOTXMz3GCGmjK on tokens per min (TPM): Limit 200000, Used 197008, Requested 4036. Please try again in 313ms. Visit https://platform.openai.com/account/rate-limits to learn more.', 'type': 'tokens', 'param': None, 'code': 'rate_limit_exceeded'}})\n",
      "Exception raised in Job[105]: RateLimitError(Error code: 429 - {'error': {'message': 'Rate limit reached for gpt-4o-mini in organization org-UZZpjHJPzrDNOTXMz3GCGmjK on tokens per min (TPM): Limit 200000, Used 197734, Requested 4248. Please try again in 594ms. Visit https://platform.openai.com/account/rate-limits to learn more.', 'type': 'tokens', 'param': None, 'code': 'rate_limit_exceeded'}})\n",
      "Exception raised in Job[403]: RateLimitError(Error code: 429 - {'error': {'message': 'Rate limit reached for gpt-4o-mini in organization org-UZZpjHJPzrDNOTXMz3GCGmjK on tokens per min (TPM): Limit 200000, Used 198482, Requested 4451. Please try again in 880ms. Visit https://platform.openai.com/account/rate-limits to learn more.', 'type': 'tokens', 'param': None, 'code': 'rate_limit_exceeded'}})\n",
      "Exception raised in Job[426]: RateLimitError(Error code: 429 - {'error': {'message': 'Rate limit reached for gpt-4o-mini in organization org-UZZpjHJPzrDNOTXMz3GCGmjK on tokens per min (TPM): Limit 200000, Used 199051, Requested 3880. Please try again in 879ms. Visit https://platform.openai.com/account/rate-limits to learn more.', 'type': 'tokens', 'param': None, 'code': 'rate_limit_exceeded'}})\n",
      "Exception raised in Job[127]: RateLimitError(Error code: 429 - {'error': {'message': 'Rate limit reached for gpt-4o-mini in organization org-UZZpjHJPzrDNOTXMz3GCGmjK on tokens per min (TPM): Limit 200000, Used 197890, Requested 3781. Please try again in 501ms. Visit https://platform.openai.com/account/rate-limits to learn more.', 'type': 'tokens', 'param': None, 'code': 'rate_limit_exceeded'}})\n",
      "Exception raised in Job[4]: RateLimitError(Error code: 429 - {'error': {'message': 'Rate limit reached for gpt-4o-mini in organization org-UZZpjHJPzrDNOTXMz3GCGmjK on tokens per min (TPM): Limit 200000, Used 198980, Requested 4190. Please try again in 951ms. Visit https://platform.openai.com/account/rate-limits to learn more.', 'type': 'tokens', 'param': None, 'code': 'rate_limit_exceeded'}})\n",
      "Exception raised in Job[425]: RateLimitError(Error code: 429 - {'error': {'message': 'Rate limit reached for gpt-4o-mini in organization org-UZZpjHJPzrDNOTXMz3GCGmjK on tokens per min (TPM): Limit 200000, Used 196821, Requested 4253. Please try again in 322ms. Visit https://platform.openai.com/account/rate-limits to learn more.', 'type': 'tokens', 'param': None, 'code': 'rate_limit_exceeded'}})\n",
      "Exception raised in Job[155]: RateLimitError(Error code: 429 - {'error': {'message': 'Rate limit reached for gpt-4o-mini in organization org-UZZpjHJPzrDNOTXMz3GCGmjK on tokens per min (TPM): Limit 200000, Used 197429, Requested 3244. Please try again in 201ms. Visit https://platform.openai.com/account/rate-limits to learn more.', 'type': 'tokens', 'param': None, 'code': 'rate_limit_exceeded'}})\n",
      "Exception raised in Job[159]: RateLimitError(Error code: 429 - {'error': {'message': 'Rate limit reached for gpt-4o-mini in organization org-UZZpjHJPzrDNOTXMz3GCGmjK on tokens per min (TPM): Limit 200000, Used 198011, Requested 4348. Please try again in 707ms. Visit https://platform.openai.com/account/rate-limits to learn more.', 'type': 'tokens', 'param': None, 'code': 'rate_limit_exceeded'}})\n",
      "Exception raised in Job[443]: RateLimitError(Error code: 429 - {'error': {'message': 'Rate limit reached for gpt-4o-mini in organization org-UZZpjHJPzrDNOTXMz3GCGmjK on tokens per min (TPM): Limit 200000, Used 197097, Requested 4331. Please try again in 428ms. Visit https://platform.openai.com/account/rate-limits to learn more.', 'type': 'tokens', 'param': None, 'code': 'rate_limit_exceeded'}})\n",
      "Exception raised in Job[7]: RateLimitError(Error code: 429 - {'error': {'message': 'Rate limit reached for gpt-4o-mini in organization org-UZZpjHJPzrDNOTXMz3GCGmjK on tokens per min (TPM): Limit 200000, Used 198109, Requested 5581. Please try again in 1.107s. Visit https://platform.openai.com/account/rate-limits to learn more.', 'type': 'tokens', 'param': None, 'code': 'rate_limit_exceeded'}})\n",
      "Exception raised in Job[456]: RateLimitError(Error code: 429 - {'error': {'message': 'Rate limit reached for gpt-4o-mini in organization org-UZZpjHJPzrDNOTXMz3GCGmjK on tokens per min (TPM): Limit 200000, Used 198209, Requested 3921. Please try again in 639ms. Visit https://platform.openai.com/account/rate-limits to learn more.', 'type': 'tokens', 'param': None, 'code': 'rate_limit_exceeded'}})\n",
      "Exception raised in Job[27]: RateLimitError(Error code: 429 - {'error': {'message': 'Rate limit reached for gpt-4o-mini in organization org-UZZpjHJPzrDNOTXMz3GCGmjK on tokens per min (TPM): Limit 200000, Used 198085, Requested 4154. Please try again in 671ms. Visit https://platform.openai.com/account/rate-limits to learn more.', 'type': 'tokens', 'param': None, 'code': 'rate_limit_exceeded'}})\n",
      "Exception raised in Job[24]: RateLimitError(Error code: 429 - {'error': {'message': 'Rate limit reached for gpt-4o-mini in organization org-UZZpjHJPzrDNOTXMz3GCGmjK on tokens per min (TPM): Limit 200000, Used 198774, Requested 3909. Please try again in 804ms. Visit https://platform.openai.com/account/rate-limits to learn more.', 'type': 'tokens', 'param': None, 'code': 'rate_limit_exceeded'}})\n",
      "Exception raised in Job[463]: RateLimitError(Error code: 429 - {'error': {'message': 'Rate limit reached for gpt-4o-mini in organization org-UZZpjHJPzrDNOTXMz3GCGmjK on tokens per min (TPM): Limit 200000, Used 198524, Requested 4253. Please try again in 833ms. Visit https://platform.openai.com/account/rate-limits to learn more.', 'type': 'tokens', 'param': None, 'code': 'rate_limit_exceeded'}})\n",
      "Exception raised in Job[475]: RateLimitError(Error code: 429 - {'error': {'message': 'Rate limit reached for gpt-4o-mini in organization org-UZZpjHJPzrDNOTXMz3GCGmjK on tokens per min (TPM): Limit 200000, Used 198740, Requested 4239. Please try again in 893ms. Visit https://platform.openai.com/account/rate-limits to learn more.', 'type': 'tokens', 'param': None, 'code': 'rate_limit_exceeded'}})\n",
      "Exception raised in Job[459]: RateLimitError(Error code: 429 - {'error': {'message': 'Rate limit reached for gpt-4o-mini in organization org-UZZpjHJPzrDNOTXMz3GCGmjK on tokens per min (TPM): Limit 200000, Used 198618, Requested 4168. Please try again in 835ms. Visit https://platform.openai.com/account/rate-limits to learn more.', 'type': 'tokens', 'param': None, 'code': 'rate_limit_exceeded'}})\n",
      "Exception raised in Job[451]: TimeoutError()\n",
      "Exception raised in Job[175]: RateLimitError(Error code: 429 - {'error': {'message': 'Rate limit reached for gpt-4o-mini in organization org-UZZpjHJPzrDNOTXMz3GCGmjK on tokens per min (TPM): Limit 200000, Used 198404, Requested 3350. Please try again in 526ms. Visit https://platform.openai.com/account/rate-limits to learn more.', 'type': 'tokens', 'param': None, 'code': 'rate_limit_exceeded'}})\n",
      "Exception raised in Job[23]: TimeoutError()\n",
      "Exception raised in Job[37]: RateLimitError(Error code: 429 - {'error': {'message': 'Rate limit reached for gpt-4o-mini in organization org-UZZpjHJPzrDNOTXMz3GCGmjK on tokens per min (TPM): Limit 200000, Used 198378, Requested 4041. Please try again in 725ms. Visit https://platform.openai.com/account/rate-limits to learn more.', 'type': 'tokens', 'param': None, 'code': 'rate_limit_exceeded'}})\n",
      "Exception raised in Job[35]: RateLimitError(Error code: 429 - {'error': {'message': 'Rate limit reached for gpt-4o-mini in organization org-UZZpjHJPzrDNOTXMz3GCGmjK on tokens per min (TPM): Limit 200000, Used 198944, Requested 4260. Please try again in 961ms. Visit https://platform.openai.com/account/rate-limits to learn more.', 'type': 'tokens', 'param': None, 'code': 'rate_limit_exceeded'}})\n",
      "Exception raised in Job[471]: RateLimitError(Error code: 429 - {'error': {'message': 'Rate limit reached for gpt-4o-mini in organization org-UZZpjHJPzrDNOTXMz3GCGmjK on tokens per min (TPM): Limit 200000, Used 197322, Requested 4716. Please try again in 611ms. Visit https://platform.openai.com/account/rate-limits to learn more.', 'type': 'tokens', 'param': None, 'code': 'rate_limit_exceeded'}})\n"
     ]
    },
    {
     "data": {
      "text/plain": "{'context_precision': 0.8018, 'faithfulness': 0.4913, 'answer_relevancy': 0.0303, 'context_recall': 0.4853}"
     },
     "execution_count": 69,
     "metadata": {},
     "output_type": "execute_result"
    }
   ],
   "source": [
    "result = evaluate(\n",
    "    dataset,\n",
    "    metrics=[\n",
    "        context_precision,\n",
    "        faithfulness,\n",
    "        answer_relevancy,\n",
    "        context_recall,\n",
    "    ],\n",
    ")\n",
    "\n",
    "result"
   ],
   "metadata": {
    "collapsed": false,
    "ExecuteTime": {
     "end_time": "2024-09-07T06:54:27.089557Z",
     "start_time": "2024-09-07T06:41:09.116266Z"
    }
   },
   "id": "d5310b9ebb5e48f3",
   "execution_count": 69
  },
  {
   "cell_type": "code",
   "outputs": [],
   "source": [
    "# {'context_precision': 0.8018, 'faithfulness': 0.4913, 'answer_relevancy': 0.0303, 'context_recall': 0.4853}"
   ],
   "metadata": {
    "collapsed": false,
    "ExecuteTime": {
     "end_time": "2024-09-06T09:30:37.439340Z",
     "start_time": "2024-09-06T09:30:37.435237Z"
    }
   },
   "id": "64d8756752d7324c",
   "execution_count": 31
  },
  {
   "cell_type": "code",
   "outputs": [
    {
     "name": "stdout",
     "output_type": "stream",
     "text": [
      "ClearML Task: created new task id=fd57f536db844e0d904ad189b244104a\n",
      "2024-09-07 09:56:28,266 - clearml.Task - INFO - Storing jupyter notebook directly as code\n",
      "ClearML results page: https://app.clear.ml/projects/29330718a2a04a3582ac1092ef326bea/experiments/fd57f536db844e0d904ad189b244104a/output/log\n",
      "2024-09-07 09:56:30,783 - clearml.Task - INFO - Waiting for repository detection and full package requirement analysis\n",
      "2024-09-07 09:56:32,632 - clearml.Task - INFO - Finished repository detection and package analysis\n"
     ]
    }
   ],
   "source": [
    "# Initialize the task\n",
    "task = Task.init(\n",
    "    project_name=\"SpicyRAG_experiments_tracker\", \n",
    "    task_name=\"Exp_2_Gemma\",  \n",
    "    task_type=Task.TaskTypes.application  # Specify the task type\n",
    ")\n",
    "\n",
    "# Log each metric\n",
    "for metric_name, metric_value in result.items():\n",
    "    task.get_logger().report_scalar(\n",
    "        title=metric_name,   # Metric name\n",
    "        series=\"evaluation\", # Group or series (optional but useful for grouping related metrics)\n",
    "        value=metric_value,  # The value of the metric\n",
    "        iteration=1          # The iteration number or epoch (set accordingly)\n",
    "    )\n",
    "\n",
    "# Close the task when done\n",
    "task.close()"
   ],
   "metadata": {
    "collapsed": false,
    "ExecuteTime": {
     "end_time": "2024-09-07T06:56:34.567348Z",
     "start_time": "2024-09-07T06:56:25.087529Z"
    }
   },
   "id": "84023890098d072e",
   "execution_count": 71
  },
  {
   "cell_type": "code",
   "outputs": [],
   "source": [
    "import json\n",
    "\n",
    "with open(\"exp_2_gemma.json\", 'w') as f:\n",
    "    json.dump(system_responses, f, indent=4) "
   ],
   "metadata": {
    "collapsed": false,
    "ExecuteTime": {
     "end_time": "2024-09-07T06:58:22.574975Z",
     "start_time": "2024-09-07T06:58:22.556832Z"
    }
   },
   "id": "eff98f0d12e476f3",
   "execution_count": 75
  },
  {
   "cell_type": "code",
   "outputs": [],
   "source": [],
   "metadata": {
    "collapsed": false
   },
   "id": "2e873391e99b89b5"
  }
 ],
 "metadata": {
  "kernelspec": {
   "display_name": "Python 3",
   "language": "python",
   "name": "python3"
  },
  "language_info": {
   "codemirror_mode": {
    "name": "ipython",
    "version": 2
   },
   "file_extension": ".py",
   "mimetype": "text/x-python",
   "name": "python",
   "nbconvert_exporter": "python",
   "pygments_lexer": "ipython2",
   "version": "2.7.6"
  }
 },
 "nbformat": 4,
 "nbformat_minor": 5
}
